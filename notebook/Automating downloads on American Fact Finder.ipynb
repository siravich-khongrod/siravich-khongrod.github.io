{
 "cells": [
  {
   "cell_type": "markdown",
   "metadata": {},
   "source": [
    "# Automating downloads on American Fact Finder"
   ]
  },
  {
   "cell_type": "code",
   "execution_count": 1,
   "metadata": {},
   "outputs": [],
   "source": [
    "import time\n",
    "from selenium import webdriver \n",
    "browser = webdriver.Chrome(executable_path=r'C:\\Users\\skhongro.DPU\\Documents\\chromedriver.exe')\n",
    "link='https://factfinder.census.gov/faces/nav/jsf/pages/searchresults.xhtml?refresh=t'\n",
    "browser.get(link)"
   ]
  },
  {
   "cell_type": "code",
   "execution_count": null,
   "metadata": {},
   "outputs": [],
   "source": [
    "tbl_nbrs = [\"B01001\",\"B15002\",\"B03002\",\"B17001\",\"B23001\",\"B25002\",\"B25004\",\"B25024\",\"B25032\",\"B25007\",\"B11016\",\"B25106\",\"B25064\",\"B25063\",\"B19013\",\"B19001\",\"B25072\",\"B19019\",\"B19001\"]\n",
    "\n",
    "for tbl_nbr in tbl_nbrs[1:5]:\n",
    "    print(tbl_nbr)\n",
    "    browser.find_element_by_class_name('remove-it').click()\n",
    "    time.sleep(3)\n",
    "    browser.find_element_by_id('searchTopicInput').click()\n",
    "    browser.find_element_by_id('searchTopicInput').send_keys(tbl_nbr)\n",
    "    browser.find_element_by_id('df-go-div').find_element_by_class_name('button-g').click()\n",
    "    time.sleep(1)\n",
    "    cols=browser.find_element_by_id('resulttable').find_elements_by_class_name('yui-dt-col-d_dataset')\n",
    "    check = []\n",
    "    for col in cols[1:]:\n",
    "        if(col.text[5:]=='ACS 5-year estimates'): check.append(1)\n",
    "        else: check.append(0)\n",
    "    checkboxes = browser.find_elements_by_name('prod')\n",
    "    for x in range(0,len(check)):\n",
    "        if(check[x]==1):\n",
    "            checkboxes[x].click()"
   ]
  },
  {
   "cell_type": "code",
   "execution_count": null,
   "metadata": {},
   "outputs": [],
   "source": [
    "while(1):\n",
    "    if(browser.find_element_by_id('yui-gen5-button').is_enabled()):\n",
    "        browser.find_element_by_id('yui-gen5-button').click()\n",
    "        break\n",
    "    time.sleep(5)\n",
    "# browser.find_element_by_id('yui-gen14-button').is_enabled()"
   ]
  }
 ],
 "metadata": {
  "kernelspec": {
   "display_name": "Python 3",
   "language": "python",
   "name": "python3"
  },
  "language_info": {
   "codemirror_mode": {
    "name": "ipython",
    "version": 3
   },
   "file_extension": ".py",
   "mimetype": "text/x-python",
   "name": "python",
   "nbconvert_exporter": "python",
   "pygments_lexer": "ipython3",
   "version": "3.7.3"
  }
 },
 "nbformat": 4,
 "nbformat_minor": 2
}
